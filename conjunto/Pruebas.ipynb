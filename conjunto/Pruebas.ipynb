{
 "cells": [
  {
   "cell_type": "code",
   "execution_count": 1,
   "metadata": {},
   "outputs": [
    {
     "name": "stdout",
     "output_type": "stream",
     "text": [
      "Estudiante Ingresado\n"
     ]
    },
    {
     "data": {
      "text/html": [
       "<div>\n",
       "<style scoped>\n",
       "    .dataframe tbody tr th:only-of-type {\n",
       "        vertical-align: middle;\n",
       "    }\n",
       "\n",
       "    .dataframe tbody tr th {\n",
       "        vertical-align: top;\n",
       "    }\n",
       "\n",
       "    .dataframe thead th {\n",
       "        text-align: right;\n",
       "    }\n",
       "</style>\n",
       "<table border=\"1\" class=\"dataframe\">\n",
       "  <thead>\n",
       "    <tr style=\"text-align: right;\">\n",
       "      <th></th>\n",
       "      <th>CI</th>\n",
       "      <th>Rol</th>\n",
       "      <th>Año Ingreso</th>\n",
       "      <th>Mail</th>\n",
       "    </tr>\n",
       "    <tr>\n",
       "      <th>Nombres</th>\n",
       "      <th></th>\n",
       "      <th></th>\n",
       "      <th></th>\n",
       "      <th></th>\n",
       "    </tr>\n",
       "  </thead>\n",
       "  <tbody>\n",
       "    <tr>\n",
       "      <th>Virginia Catala</th>\n",
       "      <td>53242356</td>\n",
       "      <td>Administrativa/o</td>\n",
       "      <td>2016</td>\n",
       "      <td>Virginia.Catala@utec.edu.uy</td>\n",
       "    </tr>\n",
       "    <tr>\n",
       "      <th>Tomy Suarez</th>\n",
       "      <td>54311063</td>\n",
       "      <td>Estudiante</td>\n",
       "      <td>2018</td>\n",
       "      <td>Tomy.Suarez@estudiantes.utec.edu.uy</td>\n",
       "    </tr>\n",
       "  </tbody>\n",
       "</table>\n",
       "</div>"
      ],
      "text/plain": [
       "                       CI               Rol  Año Ingreso  \\\n",
       "Nombres                                                    \n",
       "Virginia Catala  53242356  Administrativa/o         2016   \n",
       "Tomy Suarez      54311063        Estudiante         2018   \n",
       "\n",
       "                                                Mail  \n",
       "Nombres                                               \n",
       "Virginia Catala          Virginia.Catala@utec.edu.uy  \n",
       "Tomy Suarez      Tomy.Suarez@estudiantes.utec.edu.uy  "
      ]
     },
     "execution_count": 1,
     "metadata": {},
     "output_type": "execute_result"
    }
   ],
   "source": [
    "from Personas import Ingreso\n",
    "nuevo=Ingreso(nombre=\"Tomy Suarez\", CI=54311063, tipoRol=\"E\", AñoIngreso=2018)\n",
    "nuevo.mostrar_archivo()"
   ]
  }
 ],
 "metadata": {
  "interpreter": {
   "hash": "006f6d0a146a98ae4e484b7ab3e390336df27d1d007489d4cd24e5cef89f8849"
  },
  "kernelspec": {
   "display_name": "Python 3.9.7 ('base')",
   "language": "python",
   "name": "python3"
  },
  "language_info": {
   "codemirror_mode": {
    "name": "ipython",
    "version": 3
   },
   "file_extension": ".py",
   "mimetype": "text/x-python",
   "name": "python",
   "nbconvert_exporter": "python",
   "pygments_lexer": "ipython3",
   "version": "3.9.7"
  },
  "orig_nbformat": 4
 },
 "nbformat": 4,
 "nbformat_minor": 2
}
