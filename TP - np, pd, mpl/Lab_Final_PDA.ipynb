{
  "cells": [
    {
      "cell_type": "code",
      "execution_count": 13,
      "metadata": {
        "colab": {
          "base_uri": "https://localhost:8080/",
          "height": 53
        },
        "id": "BeuYjwqD1Kqi",
        "outputId": "eb4157ac-cd33-402b-9f65-8249a3c9fe0d"
      },
      "outputs": [
        {
          "data": {
            "text/plain": [
              "'1) K-means\\nLink utiles: https://www.aprendemachinelearning.com/k-means-en-python-paso-a-paso/#:~:text=K-Means%20en%20Python%20paso%20a%20paso&text=K-Means%20es%20un%20algoritmo,clusters)%20entre%20los%20datos%20crudos.\\nlink codigo: https://anderfernandez.com/blog/programar-kmeans-python/'"
            ]
          },
          "execution_count": 13,
          "metadata": {},
          "output_type": "execute_result"
        }
      ],
      "source": [
        "\"\"\"1) K-means\n",
        "Link utiles: https://www.aprendemachinelearning.com/k-means-en-python-paso-a-paso/#:~:text=K-Means%20en%20Python%20paso%20a%20paso&text=K-Means%20es%20un%20algoritmo,clusters)%20entre%20los%20datos%20crudos.\n",
        "link codigo: https://anderfernandez.com/blog/programar-kmeans-python/\"\"\""
      ]
    },
    {
      "cell_type": "code",
      "execution_count": 1,
      "metadata": {
        "id": "r_JsC-T22CAO"
      },
      "outputs": [],
      "source": [
        "import numpy as np\n",
        "import pandas as pd\n",
        "import matplotlib.pyplot as plt"
      ]
    },
    {
      "cell_type": "code",
      "execution_count": 50,
      "metadata": {
        "colab": {
          "base_uri": "https://localhost:8080/",
          "height": 206
        },
        "id": "o572rQNYBllR",
        "outputId": "0defd973-bf21-482c-aed2-6fa9b6bef130"
      },
      "outputs": [
        {
          "data": {
            "text/html": [
              "<div>\n",
              "<style scoped>\n",
              "    .dataframe tbody tr th:only-of-type {\n",
              "        vertical-align: middle;\n",
              "    }\n",
              "\n",
              "    .dataframe tbody tr th {\n",
              "        vertical-align: top;\n",
              "    }\n",
              "\n",
              "    .dataframe thead th {\n",
              "        text-align: right;\n",
              "    }\n",
              "</style>\n",
              "<table border=\"1\" class=\"dataframe\">\n",
              "  <thead>\n",
              "    <tr style=\"text-align: right;\">\n",
              "      <th></th>\n",
              "      <th>x1</th>\n",
              "      <th>x2</th>\n",
              "    </tr>\n",
              "  </thead>\n",
              "  <tbody>\n",
              "    <tr>\n",
              "      <th>0</th>\n",
              "      <td>5.867498</td>\n",
              "      <td>8.177152</td>\n",
              "    </tr>\n",
              "    <tr>\n",
              "      <th>1</th>\n",
              "      <td>5.613700</td>\n",
              "      <td>9.932955</td>\n",
              "    </tr>\n",
              "    <tr>\n",
              "      <th>2</th>\n",
              "      <td>7.225084</td>\n",
              "      <td>10.448862</td>\n",
              "    </tr>\n",
              "    <tr>\n",
              "      <th>3</th>\n",
              "      <td>6.762823</td>\n",
              "      <td>0.605145</td>\n",
              "    </tr>\n",
              "    <tr>\n",
              "      <th>4</th>\n",
              "      <td>8.016182</td>\n",
              "      <td>1.543147</td>\n",
              "    </tr>\n",
              "  </tbody>\n",
              "</table>\n",
              "</div>"
            ],
            "text/plain": [
              "         x1         x2\n",
              "0  5.867498   8.177152\n",
              "1  5.613700   9.932955\n",
              "2  7.225084  10.448862\n",
              "3  6.762823   0.605145\n",
              "4  8.016182   1.543147"
            ]
          },
          "execution_count": 50,
          "metadata": {},
          "output_type": "execute_result"
        }
      ],
      "source": [
        "'Cargamos los datos del dataset'\n",
        "\n",
        "data = pd.read_csv(f\"datos/dataClusters/2. data_cumulos.csv\")\n",
        "data.head()"
      ]
    },
    {
      "cell_type": "code",
      "execution_count": 51,
      "metadata": {
        "colab": {
          "base_uri": "https://localhost:8080/",
          "height": 350
        },
        "id": "9Gd13ooZCWWS",
        "outputId": "3bc12cac-a7c4-4ad4-93d6-1df4612e99f4"
      },
      "outputs": [
        {
          "data": {
            "image/png": "[encoded data removed]",
            "text/plain": [
              "<Figure size 360x360 with 1 Axes>"
            ]
          },
          "metadata": {
            "needs_background": "light"
          },
          "output_type": "display_data"
        }
      ],
      "source": [
        "# Trabajamos con numpy.arrays\n",
        "\n",
        "x1 = data[\"x1\"].values\n",
        "x2 = data[\"x2\"].values\n",
        "\n",
        "plt.style.use(\"fast\")\n",
        "\n",
        "fig, ax = plt.subplots(figsize=(5,5))\n",
        "ax.scatter(x1,x2)\n",
        "ax.set_xlabel(\"Valores x1\")\n",
        "ax.set_ylabel(\"Valores x2\")\n",
        "ax.set_title(\"Patrones correspondiente a data_cumulos.csv\")\n",
        "\n",
        "plt.show()\n",
        "#Hasta aca lo sque del teorico"
      ]
    },
    {
      "cell_type": "code",
      "execution_count": 52,
      "metadata": {},
      "outputs": [
        {
          "data": {
            "text/html": [
              "<div>\n",
              "<style scoped>\n",
              "    .dataframe tbody tr th:only-of-type {\n",
              "        vertical-align: middle;\n",
              "    }\n",
              "\n",
              "    .dataframe tbody tr th {\n",
              "        vertical-align: top;\n",
              "    }\n",
              "\n",
              "    .dataframe thead th {\n",
              "        text-align: right;\n",
              "    }\n",
              "</style>\n",
              "<table border=\"1\" class=\"dataframe\">\n",
              "  <thead>\n",
              "    <tr style=\"text-align: right;\">\n",
              "      <th></th>\n",
              "      <th>x1</th>\n",
              "      <th>x2</th>\n",
              "    </tr>\n",
              "  </thead>\n",
              "  <tbody>\n",
              "    <tr>\n",
              "      <th>0</th>\n",
              "      <td>6.437531</td>\n",
              "      <td>11.278522</td>\n",
              "    </tr>\n",
              "    <tr>\n",
              "      <th>1</th>\n",
              "      <td>7.493413</td>\n",
              "      <td>11.008924</td>\n",
              "    </tr>\n",
              "    <tr>\n",
              "      <th>2</th>\n",
              "      <td>6.730299</td>\n",
              "      <td>0.054576</td>\n",
              "    </tr>\n",
              "  </tbody>\n",
              "</table>\n",
              "</div>"
            ],
            "text/plain": [
              "         x1         x2\n",
              "0  6.437531  11.278522\n",
              "1  7.493413  11.008924\n",
              "2  6.730299   0.054576"
            ]
          },
          "execution_count": 52,
          "metadata": {},
          "output_type": "execute_result"
        }
      ],
      "source": [
        "def initialize_centroids(k, dato):\n",
        "    \"Genera k centroides eligiendo valores dentro de los datos\"\n",
        "    for centroides in range(k):     \n",
        "        x1 = data[\"x1\"].values\n",
        "        x2 = data[\"x2\"].values\n",
        "        puntos = np.array([x1,x2]).T\n",
        "        listaIndex = [*range(0,puntos.shape[0])]            #crea una lista con los index\n",
        "        index = np.random.choice(listaIndex,k)            #usa la lista listaIndex para seleccionar un index al azar\n",
        "        centroides = puntos[index]            #usa el index generado al azar para hacer que ese punto sea un centroide\n",
        "    centroids = pd.DataFrame(centroides, columns = dato.columns)        #genero un nuevo df llamado centroids\n",
        "    return centroids\n",
        "centroids = initialize_centroids(3, data)\n",
        "centroids"
      ]
    },
    {
      "cell_type": "code",
      "execution_count": 53,
      "metadata": {
        "id": "gbjuc7kl2oEW"
      },
      "outputs": [],
      "source": [
        "def distancia_euclidiana(a,b):\n",
        "    \"Mide distancias entrelospuntos y los centroides, esa distancia se llama error\"\n",
        "    error = np.sqrt(np.sum((a-b)**2)) \n",
        "    \n",
        "    return error"
      ]
    },
    {
      "cell_type": "code",
      "execution_count": 54,
      "metadata": {
        "colab": {
          "base_uri": "https://localhost:8080/",
          "height": 206
        },
        "id": "K6BUr5x_27sD",
        "outputId": "b5f19cb8-61f0-41c5-b657-da60c8ce2b69"
      },
      "outputs": [
        {
          "data": {
            "text/html": [
              "<div>\n",
              "<style scoped>\n",
              "    .dataframe tbody tr th:only-of-type {\n",
              "        vertical-align: middle;\n",
              "    }\n",
              "\n",
              "    .dataframe tbody tr th {\n",
              "        vertical-align: top;\n",
              "    }\n",
              "\n",
              "    .dataframe thead th {\n",
              "        text-align: right;\n",
              "    }\n",
              "</style>\n",
              "<table border=\"1\" class=\"dataframe\">\n",
              "  <thead>\n",
              "    <tr style=\"text-align: right;\">\n",
              "      <th></th>\n",
              "      <th>centroid</th>\n",
              "      <th>error</th>\n",
              "    </tr>\n",
              "  </thead>\n",
              "  <tbody>\n",
              "    <tr>\n",
              "      <th>0</th>\n",
              "      <td>0</td>\n",
              "      <td>3.153321</td>\n",
              "    </tr>\n",
              "    <tr>\n",
              "      <th>1</th>\n",
              "      <td>0</td>\n",
              "      <td>1.577735</td>\n",
              "    </tr>\n",
              "    <tr>\n",
              "      <th>2</th>\n",
              "      <td>1</td>\n",
              "      <td>0.621023</td>\n",
              "    </tr>\n",
              "    <tr>\n",
              "      <th>3</th>\n",
              "      <td>2</td>\n",
              "      <td>0.551530</td>\n",
              "    </tr>\n",
              "    <tr>\n",
              "      <th>4</th>\n",
              "      <td>2</td>\n",
              "      <td>1.967064</td>\n",
              "    </tr>\n",
              "  </tbody>\n",
              "</table>\n",
              "</div>"
            ],
            "text/plain": [
              "   centroid     error\n",
              "0         0  3.153321\n",
              "1         0  1.577735\n",
              "2         1  0.621023\n",
              "3         2  0.551530\n",
              "4         2  1.967064"
            ]
          },
          "execution_count": 54,
          "metadata": {},
          "output_type": "execute_result"
        }
      ],
      "source": [
        "def assign_centroid(data, centroids):\n",
        "    '''\n",
        "    Recibe un dataframe de datos y centroides.\n",
        "    Devuelve una lista con el erro en cada centroide.\n",
        "    data: los datos en un dataframe, en este caso se utilizan los de x1, x2 y centroid \n",
        "    centroids: los centroides\n",
        "    '''\n",
        "\n",
        "    n_observations = data.shape[0]#ve cada dato y lo compara\n",
        "    centroid_assign = []\n",
        "    centroid_errors = []\n",
        "    k = centroids.shape[0]#ve cuantos centroides son\n",
        "\n",
        "\n",
        "    for observation in range(n_observations):\n",
        "\n",
        "        # ve las distancias de los centroides con los valores de la columnas x1 y x2\n",
        "        errors = np.array([])\n",
        "        for centroid in range(k):\n",
        "            error = np.sqrt(np.sum((centroids.iloc[centroid, :3]-data.iloc[observation,:3])**2))\n",
        "            errors = np.append(errors, error)\n",
        "\n",
        "        # calcula con las distancias los centroides mas cercanos \n",
        "        closest_centroid =  np.where(errors == np.amin(errors))[0].tolist()[0]\n",
        "        centroid_error = np.amin(errors)\n",
        "\n",
        "        centroid_assign.append(closest_centroid)\n",
        "        centroid_errors.append(centroid_error)\n",
        "\n",
        "    return (centroid_assign,centroid_errors)\n",
        "\n",
        "data['centroid'], data['error'] = assign_centroid(data.iloc[:,:3] ,centroids)\n",
        "data[['centroid', 'error']].head()"
      ]
    },
    {
      "cell_type": "code",
      "execution_count": 58,
      "metadata": {
        "id": "W70g8YaJ34pv"
      },
      "outputs": [],
      "source": [
        "def knn(data, k):\n",
        "    '''\n",
        "    con esta funcion hacemos el cluster de datos con los datos y un valor de clusters a crear\n",
        "    '''\n",
        "\n",
        "    # inicia los centroides y el error\n",
        "    centroids = initialize_centroids(k, data)\n",
        "    error = []\n",
        "    compr = True\n",
        "    i = 0\n",
        "\n",
        "    while(compr):\n",
        "        # obtiene los centroides y el error\n",
        "        data['centroid'], iter_error = assign_centroid(data,centroids)\n",
        "        error.append(sum(iter_error))\n",
        "        # recalcula\n",
        "        centroids = data.groupby('centroid').agg('mean').reset_index(drop = True)\n",
        "\n",
        "        # se fija si el error bajo de 2\n",
        "        if(len(error)<2):\n",
        "            compr = True\n",
        "        else:\n",
        "            if(round(error[i],3) !=  round(error[i-1],3)): #si el error es diferente \n",
        "                compr = True\n",
        "            else:\n",
        "                compr= False\n",
        "        i = i + 1 \n",
        "        compr+1\n",
        "\n",
        "    data['centroid'], iter_error = assign_centroid(data,centroids)\n",
        "    centroids = data.groupby('centroid').agg('mean').reset_index(drop = True)\n",
        "    \n",
        "    return (data['centroid'], iter_error, centroids)"
      ]
    },
    {
      "cell_type": "code",
      "execution_count": 60,
      "metadata": {
        "colab": {
          "base_uri": "https://localhost:8080/"
        },
        "id": "uRtvMDaB37Ow",
        "outputId": "5b9c2202-6b59-4fae-d78e-b80a790f6f1e"
      },
      "outputs": [
        {
          "data": {
            "text/plain": [
              "0    1\n",
              "1    1\n",
              "2    1\n",
              "3    2\n",
              "4    2\n",
              "Name: centroid, dtype: int64"
            ]
          },
          "execution_count": 60,
          "metadata": {},
          "output_type": "execute_result"
        }
      ],
      "source": [
        "data['centroid'], _, centroids =  knn(data.drop(['centroid','error'], axis = 1),3)\n",
        "data['centroid'].head()"
      ]
    },
    {
      "cell_type": "code",
      "execution_count": 61,
      "metadata": {
        "colab": {
          "base_uri": "https://localhost:8080/",
          "height": 282
        },
        "id": "UNx-3n2u3-hZ",
        "outputId": "9b1a6817-f30a-4bb6-b7eb-8996ed775633"
      },
      "outputs": [
        {
          "data": {
            "text/plain": [
              "<matplotlib.collections.PathCollection at 0x1c7bd90ee90>"
            ]
          },
          "execution_count": 61,
          "metadata": {},
          "output_type": "execute_result"
        },
        {
          "data": {
            "image/png": "[encoded data removed]",
            "text/plain": [
              "<Figure size 432x288 with 1 Axes>"
            ]
          },
          "metadata": {
            "needs_background": "light"
          },
          "output_type": "display_data"
        }
      ],
      "source": [
        "colors={0:'red', 1:'blue', 2:'green', 3: \"orange\", 4:\"grey\", 5:\"yellow\",6:\"purple\",7:\"pink\",8:\"olive\"}\n",
        "plt.scatter(data.iloc[:,0], data.iloc[:,1],  marker = 'o', c = data['centroid'].apply(lambda x: colors[x]), alpha = 0.5)\n",
        "plt.scatter(centroids.iloc[:,0], centroids.iloc[:,1],  marker = 'o', s=300, \n",
        "           c = \"black\")"
      ]
    }
  ],
  "metadata": {
    "colab": {
      "collapsed_sections": [],
      "name": "Lab_Final_PDA.ipynb",
      "provenance": []
    },
    "kernelspec": {
      "display_name": "Python 3.9.7 ('base')",
      "language": "python",
      "name": "python3"
    },
    "language_info": {
      "codemirror_mode": {
        "name": "ipython",
        "version": 3
      },
      "file_extension": ".py",
      "mimetype": "text/x-python",
      "name": "python",
      "nbconvert_exporter": "python",
      "pygments_lexer": "ipython3",
      "version": "3.9.7"
    },
    "vscode": {
      "interpreter": {
        "hash": "006f6d0a146a98ae4e484b7ab3e390336df27d1d007489d4cd24e5cef89f8849"
      }
    }
  },
  "nbformat": 4,
  "nbformat_minor": 0
}
